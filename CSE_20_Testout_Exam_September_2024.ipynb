{
  "cells": [
    {
      "cell_type": "markdown",
      "metadata": {
        "id": "view-in-github",
        "colab_type": "text"
      },
      "source": [
        "<a href=\"https://colab.research.google.com/github/Ethanqg0/GraphTheoryBenchmarks/blob/master/CSE_20_Testout_Exam_September_2024.ipynb\" target=\"_parent\"><img src=\"https://colab.research.google.com/assets/colab-badge.svg\" alt=\"Open In Colab\"/></a>"
      ]
    },
    {
      "cell_type": "markdown",
      "metadata": {
        "id": "4GVDP1yAiMTS",
        "notebookgrader": {
          "id": "c30e3dd2a2bb012f269de4a4c2a991bad87b87ff",
          "readonly": true
        }
      },
      "source": [
        "# CSE 20 Testout, September 2024\n",
        "\n",
        "### Question format\n",
        "\n",
        "For each question, there is:\n",
        "\n",
        "* A text description of the problem.\n",
        "* One or more places where you have to insert your solution.  You need to complete every place marked:\n",
        "\n",
        "    `# YOUR SOLUTION HERE`\n",
        "    \n",
        "    and you should not modify any other place.\n",
        "\n",
        "* One or more test cells.  Each cell is worth some number of points, marked at the top.  You should not modify these tests cells.  The tests pass if no error is printed out: when there is a statement that says, for instance:\n",
        "\n",
        "    `assert x == 2`\n",
        "    \n",
        "    then the test passes if `x` has value 2, and fails (raises an exception) otherwise.\n",
        "\n",
        "* **Please do not delete, reorder or add cells!** The test is autograded, and if you modify the test by adding or deleting cells, even if you re-add cells you delete, you may not receive credit.\n",
        "\n",
        "* **Please do not import modules.** You do not need any, and if you import a module, you code will fail in testing.\n",
        "\n",
        "* **Write your solution only in the solution cell.** Modifications to other cells will be discarded before grading.\n",
        "\n",
        "* You can write out print statements in your code, to help you test/debug it. But remember: the code is graded on the basis of what it returns, and not on the basis of what it prints.\n",
        "\n",
        "### Hints\n",
        "\n",
        "* A statement `assert x == y` will check that `x == y`, and raise an exception if `x` is different from `y`.  We use these statements to test your code.  If they do raise an exception, it means there is something wrong with your code.\n",
        "* If you work with Colab, occasionally you may get disconnected; this happens especially if you are inactive.  In that case, you need to rerun the notebook from the beginning, as the server has \"forgotten\" its state.\n",
        "* Colab keeps a revision history of your work (`[File > Revision history]`), so if something happens, your work should not be lost.\n"
      ]
    },
    {
      "cell_type": "markdown",
      "metadata": {
        "id": "KNiegzZjgCLZ",
        "notebookgrader": {
          "id": "323d1665d6a009509de51552242bc711760b47ca",
          "readonly": true
        }
      },
      "source": [
        "## Question 1: Where can the rook go?\n",
        "\n",
        "### The board\n",
        "\n",
        "We will represent a board via a numpy matrix.  Don't worry if you don't know what this is: it's really simple.  If the board is `board`, then:\n",
        "\n",
        "    board[i, j]\n",
        "\n",
        "returns:\n",
        "\n",
        "* 0 if the position i, j in the board is empty,\n",
        "* 1 if it contains a piece of our color, and\n",
        "* -1 if it contains an adversary piece.  \n",
        "\n",
        "If you do:\n",
        "\n",
        "    board.shape\n",
        "\n",
        "you get a tuple indicating the shape of the board, for instance, (8, 8).\n",
        "That's pretty much all you need to know!\n",
        "\n",
        "### The rook\n",
        "\n",
        "A rook can move horizontally or vertically, in any direction, but it cannot \"jump\" over another piece.  The rook can go to places where there is an adversary piece: in that case, it stops there (and eats the piece).\n",
        "\n",
        "Let's consider this example.  Here is the board status:\n",
        "\n",
        "    0  0  0  0  0  0\n",
        "    0  1  0 -1  0  0\n",
        "    1  0  0 *1* 0 -1\n",
        "    0  0  0  0  0  0\n",
        "    0  1  0  1  0  0\n",
        "    0  1  0  0  0 -1\n",
        "\n",
        "Assume the rook is at position (2, 3) (2nd row, 3rd column), that is, the rook is the 1 we indicated as `*1*` above (we use `*1*` just to distinguish it from other 1s, but remember, the board just contains a 1 there).\n",
        "\n",
        "Where can the rook go?  \n",
        "\n",
        "* If it goes up, it can go to (1, 3) (and eat the adversary piece there).\n",
        "* If it goes down, it can go to (3, 3) (and can go no further).\n",
        "* If it goes right, it can go to (2, 4), and to (2, 5) (in the latter case, eating the adversary there).\n",
        "* If it goes left, it can go to (2, 2), and (2, 1) (and can go no further).\n",
        "\n",
        "In total, the places where it can go are:\n",
        "\n",
        "    {(1, 3), (3, 3), (2, 4), (2, 5), (2, 2), (2, 1)}\n",
        "\n",
        "### The function `rook`\n",
        "\n",
        "You have to write a function `rook` so that `rook(board, i, j)` returns the set of locations (as above) where the rook can go starting from position i, j.  Of course, you can assume `board[i, j] = 1`, since the rook will be there.  "
      ]
    },
    {
      "cell_type": "code",
      "execution_count": 28,
      "metadata": {
        "id": "zlcL1oVNFrYE",
        "notebookgrader": {
          "id": "31e17f224c6985f580233ca7c690e5f494519b6d",
          "is_solution": false,
          "is_tests": false,
          "readonly": true
        }
      },
      "outputs": [],
      "source": [
        "import numpy as np"
      ]
    },
    {
      "cell_type": "code",
      "execution_count": 87,
      "metadata": {
        "id": "9e8VOFx-m8jp",
        "notebookgrader": {
          "id": "2dbd42a6ce29c288574b41e0a233e7d28f450ff1",
          "is_solution": true,
          "is_tests": false,
          "readonly": false
        }
      },
      "outputs": [],
      "source": [
        "def rook(board, i, j):\n",
        "    assert board[i][j] == 1  # The rook is there.\n",
        "    locations = set()\n",
        "    rows, cols = len(board), len(board[0])\n",
        "\n",
        "    \"\"\"\n",
        "      Pseudocode\n",
        "      Locations will be a set, each location will be a tuple. We will go in all four directions and append the tuple to the locations set.\n",
        "      We will check each direction by doing a while loop. Each movement we will append the location if appropriate\n",
        "    \"\"\"\n",
        "\n",
        "    # Moving right\n",
        "    temp_j = j\n",
        "    while temp_j + 1 < cols:  # Check for right bounds\n",
        "        temp_j += 1\n",
        "        location = (i, temp_j)\n",
        "\n",
        "        if board[i][temp_j] == 0:  # Empty square\n",
        "            locations.add(location)\n",
        "        elif board[i][temp_j] == -1:  # Enemy piece\n",
        "            locations.add(location)\n",
        "            break\n",
        "        else:  # Friendly piece or out of bounds\n",
        "            break\n",
        "\n",
        "    # Moving left\n",
        "    temp_j = j\n",
        "    while temp_j - 1 >= 0:  # Check for left bounds\n",
        "        temp_j -= 1\n",
        "        location = (i, temp_j)\n",
        "\n",
        "        if board[i][temp_j] == 0:\n",
        "            locations.add(location)\n",
        "        elif board[i][temp_j] == -1:\n",
        "            locations.add(location)\n",
        "            break\n",
        "        else:\n",
        "            break\n",
        "\n",
        "    # Moving up\n",
        "    temp_i = i\n",
        "    while temp_i - 1 >= 0:  # Check for upper bounds\n",
        "        temp_i -= 1\n",
        "        location = (temp_i, j)\n",
        "\n",
        "        if board[temp_i][j] == 0:\n",
        "            locations.add(location)\n",
        "        elif board[temp_i][j] == -1:\n",
        "            locations.add(location)\n",
        "            break\n",
        "        else:\n",
        "            break\n",
        "\n",
        "    # Moving down\n",
        "    temp_i = i\n",
        "    while temp_i + 1 < rows:  # Check for lower bounds\n",
        "        temp_i += 1\n",
        "        location = (temp_i, j)\n",
        "\n",
        "        if board[temp_i][j] == 0:\n",
        "            locations.add(location)\n",
        "        elif board[temp_i][j] == -1:\n",
        "            locations.add(location)\n",
        "            break\n",
        "        else:\n",
        "            break\n",
        "\n",
        "    return locations\n"
      ]
    },
    {
      "cell_type": "markdown",
      "metadata": {
        "id": "uXmtdeflF8uB",
        "notebookgrader": {
          "id": "8a4aa4a2cdd6a60ee296c65855f6e2b38b8d4281",
          "readonly": true
        }
      },
      "source": [
        "To make testing easier, here is a function that displays with \"2\" the places where the rook can go."
      ]
    },
    {
      "cell_type": "code",
      "execution_count": 88,
      "metadata": {
        "id": "xb_A-17pF7zH",
        "notebookgrader": {
          "id": "d67c9135442125ecf40a9a2a49f7991f5c707ebd",
          "is_solution": false,
          "is_tests": false,
          "readonly": true
        }
      },
      "outputs": [],
      "source": [
        "def display_solution(board, places):\n",
        "    board = board.copy()\n",
        "    for i, j in places:\n",
        "        board[i, j] = 2\n",
        "    print(board)"
      ]
    },
    {
      "cell_type": "code",
      "execution_count": 89,
      "metadata": {
        "colab": {
          "base_uri": "https://localhost:8080/"
        },
        "id": "qAR9MMLgFcOx",
        "notebookgrader": {
          "id": "fabfa3552301f636ece87903646b79bbe99f610e",
          "is_solution": false,
          "is_tests": true,
          "readonly": true,
          "test_points": 5
        },
        "outputId": "b9da0b05-5d47-4d7a-a338-6eeed5f988eb",
        "collapsed": true
      },
      "outputs": [
        {
          "output_type": "stream",
          "name": "stdout",
          "text": [
            "[[0. 0. 2. 0.]\n",
            " [2. 2. 1. 2.]\n",
            " [0. 0. 2. 0.]\n",
            " [0. 0. 2. 0.]]\n",
            "{(1, 1), (0, 2), (2, 2), (1, 0), (3, 2), (1, 3)}\n"
          ]
        }
      ],
      "source": [
        "# Tests 5 points: on an otherwise empty board.\n",
        "\n",
        "import numpy as np\n",
        "\n",
        "board = np.zeros((4, 4))\n",
        "board[1, 2] = 1\n",
        "places = rook(board, 1, 2)\n",
        "display_solution(board, places)\n",
        "print(rook(board, 1, 2))\n",
        "assert rook(board, 1, 2) == {(1, 1), (0, 2), (2, 2), (1, 0), (3, 2), (1, 3)}\n"
      ]
    },
    {
      "cell_type": "code",
      "execution_count": 90,
      "metadata": {
        "colab": {
          "base_uri": "https://localhost:8080/"
        },
        "id": "YU8YynCHFoU8",
        "notebookgrader": {
          "id": "b18103932390f1727ff04b5952998418756823fc",
          "is_solution": false,
          "is_tests": true,
          "readonly": true,
          "test_points": 10
        },
        "outputId": "e4427b42-d6ea-4e72-ecfd-7b21875f41a4"
      },
      "outputs": [
        {
          "output_type": "stream",
          "name": "stdout",
          "text": [
            "[[0. 0. 2. 0.]\n",
            " [2. 2. 1. 2.]\n",
            " [0. 0. 1. 0.]\n",
            " [0. 0. 0. 0.]]\n",
            "{(1, 0), (1, 1), (1, 3), (0, 2)}\n"
          ]
        }
      ],
      "source": [
        "# Tests 10 points: on a board with some of our pieces, but no adversary piece.\n",
        "\n",
        "board = np.zeros((4, 4))\n",
        "board[1, 2] = 1\n",
        "board[2, 2] = 1\n",
        "places = rook(board, 1, 2)\n",
        "display_solution(board, places)\n",
        "print( rook(board, 1, 2) )\n",
        "assert rook(board, 1, 2) == {(1, 1), (0, 2), (1, 0), (1, 3)}\n"
      ]
    },
    {
      "cell_type": "code",
      "execution_count": 91,
      "metadata": {
        "colab": {
          "base_uri": "https://localhost:8080/"
        },
        "id": "RAEr3cIeHsPu",
        "notebookgrader": {
          "id": "baacf5098a588fd492952a13d60c4c4741822931",
          "is_solution": false,
          "is_tests": true,
          "readonly": true,
          "test_points": 10
        },
        "outputId": "b5ce31ea-b9f4-491b-c5e7-b84c229f1e90"
      },
      "outputs": [
        {
          "output_type": "stream",
          "name": "stdout",
          "text": [
            "[[0. 0. 0. 0. 0. 0. 0. 0.]\n",
            " [0. 0. 0. 0. 0. 0. 0. 0.]\n",
            " [0. 0. 2. 0. 0. 0. 0. 0.]\n",
            " [1. 2. 1. 2. 2. 0. 0. 0.]\n",
            " [0. 0. 2. 0. 0. 0. 0. 0.]\n",
            " [0. 0. 2. 0. 0. 0. 0. 0.]]\n"
          ]
        }
      ],
      "source": [
        "# Tests 10 points: on a board with both our and adversary pieces.\n",
        "\n",
        "board = np.zeros((6, 8))\n",
        "board[3, 2] = 1\n",
        "board[2, 2] = -1\n",
        "board[3, 0] = 1\n",
        "board[3, 4] = -1\n",
        "places = rook(board, 3, 2)\n",
        "display_solution(board, places)\n",
        "assert rook(board, 3, 2) == {(3, 4), (3, 1), (4, 2), (3, 3), (2, 2), (5, 2)}\n"
      ]
    },
    {
      "cell_type": "markdown",
      "metadata": {
        "id": "QXMcVePIFiEu",
        "notebookgrader": {
          "id": "bf6e67bf2f38f5c9ca786e1e8013313fedbb069f",
          "readonly": true
        }
      },
      "source": [
        "## Question 2: Count the function calls\n",
        "\n",
        "Write a function `f`, which returns the number of times it has been called since its last call with argument 0.\n",
        "So if you call\n",
        "\n",
        "    f(0)\n",
        "\n",
        "it returns 0, and if you call then:\n",
        "\n",
        "    f(1)    return  1\n",
        "    f(4)    returns 2\n",
        "    f(0)    returns 0 (the count is reset)\n",
        "    f(-4)   returns 1\n",
        "    f(5)    returns 2\n",
        "    f(4)    returns 3\n",
        "\n",
        "and so on.  The function should be able to handle any argument.  All that matters, really, is whether the argument is 0 or not."
      ]
    },
    {
      "cell_type": "code",
      "execution_count": 92,
      "metadata": {
        "id": "rjI5vDtkJ0zE",
        "notebookgrader": {
          "id": "18dae53c779e345c2d6ebb62123cc38df118d2bc",
          "is_solution": true,
          "is_tests": false,
          "readonly": false
        }
      },
      "outputs": [],
      "source": [
        "# You can write here any setup code that you might find useful.\n",
        "## BEGIN SOLUTION\n",
        "class Counter(object):\n",
        "    counter = 0 # changed variable to static so that the value persists between function calls\n",
        "\n",
        "    def increment():\n",
        "      counter += 1\n",
        "\n",
        "my_counter = Counter()\n",
        "## END SOLUTION\n",
        "\n",
        "# Here is your function declaration.\n",
        "def f(n):\n",
        "    if n == 0:\n",
        "      my_counter.counter = 0\n",
        "      return my_counter.counter\n",
        "    else:\n",
        "      my_counter.counter += 1\n",
        "      return my_counter.counter"
      ]
    },
    {
      "cell_type": "code",
      "execution_count": 93,
      "metadata": {
        "id": "BX27G0v4PeJH",
        "notebookgrader": {
          "id": "fd32297a72476557cc531234faeecaf3ffc8fad5",
          "is_solution": false,
          "is_tests": true,
          "readonly": true,
          "test_points": 15
        }
      },
      "outputs": [],
      "source": [
        "# Tests 15 points: Let's test the function.\n",
        "\n",
        "assert f(0) == 0\n",
        "assert f(1) == 1\n",
        "assert f(2) == 2\n",
        "assert f(0) == 0\n",
        "assert f(-3) == 1\n",
        "assert f(\"cat\") == 2\n",
        "assert f(None) == 3\n"
      ]
    },
    {
      "cell_type": "markdown",
      "metadata": {
        "id": "lcZAcdLiHMST",
        "notebookgrader": {
          "id": "45600bad9a9df3c431f94bd155929ed7caf4af01",
          "readonly": true
        }
      },
      "source": [
        "## Question 3: 3D boxes\n",
        "\n",
        "You must fill in the definition of a `Box` class.  You create a box by specifying its width, length, and height:\n",
        "\n",
        "    b = Box(3, 4, 5)\n",
        "    \n",
        "The box must have three methods:\n",
        "\n",
        "    b.volume()\n",
        "    \n",
        "must return the volume of the box.\n",
        "If you have two boxes, b1 and b2, then\n",
        "\n",
        "    b1.is_bigger_than(b2)\n",
        "    \n",
        "must return `True` if `b1` has volume that is bigger (>) than `b2`, and `False` otherwise.\n",
        "\n",
        "Finally,\n",
        "\n",
        "    b1.can_contain(b2)\n",
        "\n",
        "must return `True` if `b1` can contain `b2`, that is, if you can put box `b2` inside box `b1`, perhaps rotating it to orient it in the best way, but keeping the sides parallel to the sides of the boxes.  In practice, `b1.can_contain(b2)` holds if you can associate the dimensions of `b1` to the dimensions of `b2` in such a way that the dimensions of `b1` are all bigger than the dimensions of `b2`.  \n"
      ]
    },
    {
      "cell_type": "markdown",
      "metadata": {
        "id": "L6pB9jBLNWcT",
        "notebookgrader": {
          "id": "a3fb6b9f31141ff29edcc33e10e1308fdcf1ce69",
          "readonly": true
        }
      },
      "source": []
    },
    {
      "cell_type": "code",
      "execution_count": 121,
      "metadata": {
        "id": "xMoxwr1Nyv1t",
        "notebookgrader": {
          "id": "a4a2711ec03b29bdcc4fff1e7d9bb36ce8ddcc8d",
          "is_solution": true,
          "is_tests": false,
          "readonly": false
        }
      },
      "outputs": [],
      "source": [
        "class Box(object):\n",
        "    \"\"\"A class representing a box.\n",
        "    You create a Box of size 3 x 4 x 5 by calling Box(3, 4, 5).\n",
        "    The box must have two methods:\n",
        "    volume() returns the volume,\n",
        "    is_bigger_than(b) returns whether the volume of this box is bigger than\n",
        "    that of box b.\n",
        "    can_contain(b) if you can put box b inside this box, keeping the faces of the boxes parallel.\n",
        "    \"\"\"\n",
        "\n",
        "    def __init__(self, width, length, height):\n",
        "      self.width = width\n",
        "      self.length = length\n",
        "      self.height = height\n",
        "\n",
        "\n",
        "    def volume(self):\n",
        "      return self.width * self.length * self.height\n",
        "\n",
        "    def is_bigger_than(self, object):\n",
        "      if self.volume() > object.volume():\n",
        "        return True\n",
        "      else:\n",
        "        return False\n",
        "\n",
        "    def can_contain(self, object):\n",
        "\n",
        "      if self.width >= object.width and self.height >= object.height and self.length >= object.length:\n",
        "        return True\n",
        "      elif self.width >= object.height and self.height >= object.length and self.length >= object.width:\n",
        "        return True\n",
        "      elif self.width >= object.length and self.height >= object.width and self.length >= object.height:\n",
        "        return True\n",
        "      else:\n",
        "        return False\n",
        "\n"
      ]
    },
    {
      "cell_type": "code",
      "source": [],
      "metadata": {
        "id": "SrPUTRG13Pd6"
      },
      "execution_count": null,
      "outputs": []
    },
    {
      "cell_type": "code",
      "execution_count": 110,
      "metadata": {
        "id": "CK-_ZM7GRhM6",
        "notebookgrader": {
          "id": "423a7ae69f386f47f09b5e9948dd6c6787ab2843",
          "is_solution": false,
          "is_tests": true,
          "readonly": true,
          "test_points": 5
        }
      },
      "outputs": [],
      "source": [
        "# Tests 5 points: volume.\n",
        "\n",
        "def check_equal(x, y):\n",
        "    if x != y:\n",
        "        print(\"Error:\")\n",
        "        print(\"    Your answer was:\", x)\n",
        "        print(\"    Correct answer: \", y)\n",
        "    assert x == y\n",
        "\n",
        "check_equal(Box(3, 4, 5).volume(), 60)\n",
        "check_equal(Box(5, 5, 5).volume(), 125)\n",
        "b = Box(1, 2, 3)\n",
        "check_equal(b.volume(), 6)\n"
      ]
    },
    {
      "cell_type": "code",
      "execution_count": 111,
      "metadata": {
        "id": "d_nHBe_4BUEJ",
        "notebookgrader": {
          "id": "7d3862804668870f92256e4a804f6948330489cb",
          "is_solution": false,
          "is_tests": true,
          "readonly": true,
          "test_points": 5
        }
      },
      "outputs": [],
      "source": [
        "# Tests 5 points: is_bigger_than.\n",
        "\n",
        "check_equal(Box(3, 4, 5).is_bigger_than(Box(2, 3, 4)), True)\n",
        "check_equal(Box(2, 3, 4).is_bigger_than(Box(5, 6, 7)), False)\n"
      ]
    },
    {
      "cell_type": "code",
      "execution_count": 112,
      "metadata": {
        "id": "zbCER3jT9tFX",
        "notebookgrader": {
          "id": "1028b76837b0eb0422da2ab51b705d46f9a500d1",
          "is_solution": false,
          "is_tests": true,
          "readonly": true,
          "test_points": 5
        }
      },
      "outputs": [],
      "source": [
        "# Tests 5 points: can_contain, simple cases.\n",
        "\n",
        "check_equal(Box(3, 4, 5).can_contain(Box(2, 3, 4)), True)\n",
        "check_equal(Box(2, 3, 4).can_contain(Box(5, 6, 7)), False)\n"
      ]
    },
    {
      "cell_type": "code",
      "execution_count": 122,
      "metadata": {
        "id": "ALStXxXXu7q7",
        "notebookgrader": {
          "id": "5d1a60b7b0c3ec435700d28bfe53f2506c9813f7",
          "is_solution": false,
          "is_tests": true,
          "readonly": true,
          "test_points": 10
        }
      },
      "outputs": [],
      "source": [
        "# Tests 10 points: can_contain, more complex cases.\n",
        "\n",
        "# These cases need the inner box to be rotated.\n",
        "\n",
        "check_equal(Box(3, 4, 5).can_contain(Box(5, 3, 4)), True)\n",
        "check_equal(Box(6, 6, 2).can_contain(Box(2, 3, 6)), True)\n",
        "check_equal(Box(6, 6, 2).can_contain(Box(2, 7, 6)), False)\n",
        "check_equal(Box(6, 6, 2).can_contain(Box(2, 6, 5)), True)\n"
      ]
    },
    {
      "cell_type": "code",
      "execution_count": null,
      "metadata": {
        "id": "kII_EC30kMev",
        "notebookgrader": {
          "id": "0542970744a2f34aafd020f0322205e11cd61a65",
          "is_solution": false,
          "is_tests": false,
          "readonly": true
        }
      },
      "outputs": [],
      "source": []
    }
  ],
  "metadata": {
    "colab": {
      "provenance": [],
      "include_colab_link": true
    },
    "kernelspec": {
      "display_name": "Python 3",
      "name": "python3"
    },
    "language_info": {
      "name": "python"
    },
    "notebookgrader": {
      "total_points": 65
    }
  },
  "nbformat": 4,
  "nbformat_minor": 0
}